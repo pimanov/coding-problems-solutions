{
 "cells": [
  {
   "cell_type": "markdown",
   "metadata": {},
   "source": [
    "# Find longest word in dictionary that is a subsequence of a given string "
   ]
  },
  {
   "cell_type": "markdown",
   "metadata": {},
   "source": [
    "https://techdevguide.withgoogle.com/paths/foundational/find-longest-word-in-dictionary-that-subsequence-of-given-string#!"
   ]
  },
  {
   "cell_type": "markdown",
   "metadata": {},
   "source": [
    "Given a string S and a set of words D, find the longest word in D that is a subsequence of S. \n",
    "\n",
    "Word W is a subsequence of S if some number of characters, possibly zero, can be deleted from S to form W, without reordering the remaining characters.\n",
    "\n",
    "Note: D can appear in any format (list, hash table, prefix tree, etc.)\n",
    "\n",
    "For example, given the input of S = \"abppplee\" and D = {\"able\", \"ale\", \"apple\", \"bale\", \"kangaroo\"} the correct output would be \"apple\"\n",
    "\n",
    "The words \"able\" and \"ale\" are both subsequences of S, but they are shorter than \"apple\".\n",
    "\n",
    "The word \"bale\" is not a subsequence of S because even though S has all the right letters, they are not in the right order.\n",
    "\n",
    "The word \"kangaroo\" is the longest word in D, but it isn't a subsequence of S."
   ]
  },
  {
   "cell_type": "code",
   "execution_count": 18,
   "metadata": {},
   "outputs": [],
   "source": [
    "#Given solution\n",
    "\n",
    "import collections\n",
    "import sys\n",
    "\n",
    "def find_longest_word_in_string(letters, words):\n",
    "    letter_positions = collections.defaultdict(list)\n",
    "    \n",
    "    for index, letter in enumerate(letters):\n",
    "        letter_positions[letter].append(index)\n",
    "                  \n",
    "    for word in sorted(words, key=lambda w: len(w), reverse=True):\n",
    "        pos = 0\n",
    "        for letter in word:\n",
    "            if letter not in letter_positions:\n",
    "                break\n",
    "                \n",
    "            possible_positions = [p for p in letter_positions[letter] if p >= pos]\n",
    "            if not possible_positions:\n",
    "                break\n",
    "                \n",
    "            pos = possible_positions[0] + 1\n",
    "            \n",
    "        else:\n",
    "            return word\n",
    "    else:\n",
    "        return None"
   ]
  },
  {
   "cell_type": "code",
   "execution_count": 27,
   "metadata": {},
   "outputs": [],
   "source": [
    "# My solution\n",
    "import collections\n",
    "\n",
    "def find_longest_word_in_string(letters, words):\n",
    "    \n",
    "    current_latter_dict = collections.defaultdict(list)\n",
    "    for w in words:\n",
    "        current_latter_dict[w[0]].append((w, 0))\n",
    "    \n",
    "    substrings = []\n",
    "    for l in letters:\n",
    "        for w, p in current_latter_dict[l]:\n",
    "            p += 1\n",
    "            current_latter_dict_l = []\n",
    "            if len(w) == p:\n",
    "                substrings.append(w)\n",
    "            elif w[p] == l:\n",
    "                current_latter_dict_l.append((w, p))\n",
    "            else:\n",
    "                current_latter_dict[w[p]].append((w, p))\n",
    "                \n",
    "        current_latter_dict[l] = current_latter_dict_l\n",
    "                \n",
    "    if substrings:\n",
    "        return sorted(substrings, key = lambda w: len(w))[0]\n",
    "    \n",
    "                "
   ]
  },
  {
   "cell_type": "markdown",
   "metadata": {},
   "source": [
    "This algorithm is based on the greedy algorithm. Let's explain the greedy algorithm. To find subsistence of sequence S that is equal to the word W, we are looking at the characters in the string S in turn and compare them with the first character of word w. After the first character of w is found we are searching the second character of the word in the unviewed part of the string. If we found all characters of the word w in the string S in the right order w is a substring of the S. If w is a substring of the string S greedy algorithm will find it. The running time of this algorithm is O(N) where N is a length of the string S. "
   ]
  },
  {
   "cell_type": "markdown",
   "metadata": {},
   "source": [
    "In the implemented algorithm, we take a character of the string S and search it in all of the words concordantly. For this purpose, we maintain a map M from characters to tuples that contain words with their indexes. "
   ]
  },
  {
   "cell_type": "markdown",
   "metadata": {},
   "source": []
  }
 ],
 "metadata": {
  "kernelspec": {
   "display_name": "Python 3",
   "language": "python",
   "name": "python3"
  },
  "language_info": {
   "codemirror_mode": {
    "name": "ipython",
    "version": 3
   },
   "file_extension": ".py",
   "mimetype": "text/x-python",
   "name": "python",
   "nbconvert_exporter": "python",
   "pygments_lexer": "ipython3",
   "version": "3.7.3"
  }
 },
 "nbformat": 4,
 "nbformat_minor": 4
}
