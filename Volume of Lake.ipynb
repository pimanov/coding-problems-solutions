{
 "cells": [
  {
   "cell_type": "markdown",
   "metadata": {},
   "source": [
    "# Find the Volume of Each Lake Created by Rainwater "
   ]
  },
  {
   "cell_type": "markdown",
   "metadata": {},
   "source": [
    "**The Challenge**\n",
    "\n",
    "Imagine an island that is in the shape of a bar graph. When it rains, certain areas of the island fill up with rainwater to form lakes. Any excess rainwater the island cannot hold in lakes will run off the island to the west or east and drain into the ocean.\n",
    "\n",
    "Given an array of positive integers representing 2-D bar heights, design an algorithm (or write a function) that can compute the total volume (capacity) of water that could be held in all lakes on such an island given an array of the heights of the bars. Assume an elevation map where the width of each bar is 1.\n",
    "\n",
    "Example: Given [1,3,2,4,1,3,1,4,5,2,2,1,4,2,2], return 15 (3 bodies of water with volumes of 1,7,7 yields total volume of 15)"
   ]
  },
  {
   "cell_type": "code",
   "execution_count": 14,
   "metadata": {},
   "outputs": [],
   "source": [
    "def find_volume(bars: [int]) -> int:\n",
    "    left_maxs = [0]\n",
    "    for b in bars:\n",
    "        left_maxs.append(max(left_maxs[-1], b))\n",
    "        \n",
    "    left_maxs.reverse()\n",
    "    bars.reverse()\n",
    "    \n",
    "    right_max = 0\n",
    "    total_vol = 0\n",
    "    for b, left_max in zip(bars, left_maxs):\n",
    "        right_max = max(right_max, b)\n",
    "        lake_height = min(left_max, right_max)\n",
    "        \n",
    "        local_vol = lake_height - b\n",
    "        total_vol += local_vol\n",
    "    \n",
    "    return total_vol"
   ]
  },
  {
   "cell_type": "code",
   "execution_count": 30,
   "metadata": {},
   "outputs": [
    {
     "data": {
      "text/plain": [
       "15"
      ]
     },
     "execution_count": 30,
     "metadata": {},
     "output_type": "execute_result"
    }
   ],
   "source": [
    "find_volume([1,3,2,4,1,3,1,4,5,2,2,1,4,2,2])"
   ]
  },
  {
   "cell_type": "code",
   "execution_count": null,
   "metadata": {},
   "outputs": [],
   "source": []
  }
 ],
 "metadata": {
  "kernelspec": {
   "display_name": "Python 3",
   "language": "python",
   "name": "python3"
  },
  "language_info": {
   "codemirror_mode": {
    "name": "ipython",
    "version": 3
   },
   "file_extension": ".py",
   "mimetype": "text/x-python",
   "name": "python",
   "nbconvert_exporter": "python",
   "pygments_lexer": "ipython3",
   "version": "3.7.3"
  }
 },
 "nbformat": 4,
 "nbformat_minor": 4
}
