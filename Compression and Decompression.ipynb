{
 "cells": [
  {
   "cell_type": "markdown",
   "metadata": {},
   "source": [
    "# Former Coding Interview Question: Compression and Decompression "
   ]
  },
  {
   "cell_type": "markdown",
   "metadata": {},
   "source": [
    "https://techdevguide.withgoogle.com/paths/advanced/compress-decompression#!"
   ]
  },
  {
   "cell_type": "markdown",
   "metadata": {},
   "source": [
    "**The Challenge**\n",
    "\n",
    "In this exercise, you're going to decompress a compressed string.\n",
    "\n",
    "Your input is a compressed string of the format number[string] and the decompressed output form should be the string written number times. For example:\n",
    "\n",
    "The input\n",
    "\n",
    "3[abc]4[ab]c\n",
    "\n",
    "Would be output as\n",
    "\n",
    "abcabcabcababababc\n",
    "\n",
    "**Other rules**\n",
    "\n",
    "Number can have more than one digit. For example, 10[a] is allowed, and just means aaaaaaaaaa\n",
    "\n",
    "One repetition can occur inside another. For example, 2[3[a]b] decompresses into aaabaaab\n",
    "\n",
    "Characters allowed as input include digits, small English letters and brackets [ ].\n",
    "\n",
    "Digits are only to represent amount of repetitions.\n",
    "\n",
    "Letters are just letters.\n",
    "\n",
    "Brackets are only part of syntax of writing repeated substring.\n",
    "\n",
    "Input is always valid, so no need to check its validity.\n",
    "\n",
    "**Learning objectives**\n",
    "\n",
    "This question gives you the chance to practice with strings, recursion, algorithm, compilers, automata, and loops. It’s also an opportunity to work on coding with better efficiency."
   ]
  },
  {
   "cell_type": "code",
   "execution_count": 56,
   "metadata": {},
   "outputs": [],
   "source": [
    "def decoder(code, ind=0):\n",
    "    \n",
    "    string = \"\"\n",
    "    num = 0\n",
    "    \n",
    "    while ind < len(code):\n",
    "        \n",
    "        if code[ind].isalpha():\n",
    "            string += code[ind]\n",
    "        \n",
    "        elif code[ind].isnumeric():\n",
    "            num = num * 10 + int(code[ind])\n",
    "            \n",
    "        elif code[ind] == '[':\n",
    "            res = decoder(code, ind + 1)\n",
    "            string += num * res[0]\n",
    "            ind = res[1]\n",
    "            num = 0\n",
    "            \n",
    "        elif code[ind] == ']':\n",
    "            return string, ind\n",
    "            \n",
    "        else:\n",
    "            print(\"Illegal character passed! ind =\", ind)\n",
    "            \n",
    "        ind += 1\n",
    "    \n",
    "    else:\n",
    "        return string"
   ]
  },
  {
   "cell_type": "code",
   "execution_count": 57,
   "metadata": {},
   "outputs": [
    {
     "name": "stdout",
     "output_type": "stream",
     "text": [
      "Illegal character passed! ind = 1\n"
     ]
    },
    {
     "data": {
      "text/plain": [
       "'abrrrsmmabrrrsmmm'"
      ]
     },
     "execution_count": 57,
     "metadata": {},
     "output_type": "execute_result"
    }
   ],
   "source": [
    "decoder(\"2+[ab3[r]s2[m0[s]]]m\")"
   ]
  },
  {
   "cell_type": "code",
   "execution_count": null,
   "metadata": {},
   "outputs": [],
   "source": []
  }
 ],
 "metadata": {
  "kernelspec": {
   "display_name": "Python 3",
   "language": "python",
   "name": "python3"
  },
  "language_info": {
   "codemirror_mode": {
    "name": "ipython",
    "version": 3
   },
   "file_extension": ".py",
   "mimetype": "text/x-python",
   "name": "python",
   "nbconvert_exporter": "python",
   "pygments_lexer": "ipython3",
   "version": "3.7.3"
  }
 },
 "nbformat": 4,
 "nbformat_minor": 4
}
