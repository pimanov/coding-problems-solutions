{
 "cells": [
  {
   "cell_type": "markdown",
   "metadata": {},
   "source": [
    "# Robot in a maze"
   ]
  },
  {
   "cell_type": "markdown",
   "metadata": {},
   "source": [
    "2D char map is given. \n",
    "\n",
    "     O - robot position\n",
    "     x - obsticle\n",
    "     * - goal\n",
    "     - - free space\n",
    "     \n",
    "We need to make control siquence, that take robot to the goal. \n",
    "Control symbols:\n",
    "\n",
    "    L - turn left\n",
    "    R - turn right\n",
    "    S - go forward\n",
    "    G - chack the goal\n",
    "\n",
    "Initial direction is (0, 1)"
   ]
  },
  {
   "cell_type": "markdown",
   "metadata": {},
   "source": [
    "Implemented to variants of depth_first_algorithm with and without reqursion"
   ]
  },
  {
   "cell_type": "code",
   "execution_count": 34,
   "metadata": {},
   "outputs": [],
   "source": [
    "import numpy as np"
   ]
  },
  {
   "cell_type": "code",
   "execution_count": 75,
   "metadata": {},
   "outputs": [],
   "source": [
    "cmap = np.array([['-','-','-','-'],\n",
    "                 ['x','-','x','x'], \n",
    "                 ['-','O','-','-'], \n",
    "                 ['-','*','x','-']])"
   ]
  },
  {
   "cell_type": "code",
   "execution_count": 76,
   "metadata": {},
   "outputs": [
    {
     "data": {
      "text/plain": [
       "array([['-', '-', '-', '-'],\n",
       "       ['x', '-', 'x', 'x'],\n",
       "       ['-', 'O', '-', '-'],\n",
       "       ['-', '*', 'x', '-']], dtype='<U1')"
      ]
     },
     "execution_count": 76,
     "metadata": {},
     "output_type": "execute_result"
    }
   ],
   "source": [
    "cmap"
   ]
  },
  {
   "cell_type": "code",
   "execution_count": 77,
   "metadata": {},
   "outputs": [
    {
     "data": {
      "text/plain": [
       "(4, 4)"
      ]
     },
     "execution_count": 77,
     "metadata": {},
     "output_type": "execute_result"
    }
   ],
   "source": [
    "cmap.shape"
   ]
  },
  {
   "cell_type": "code",
   "execution_count": 78,
   "metadata": {},
   "outputs": [],
   "source": [
    "def step(pos, direction):\n",
    "    i, j = pos\n",
    "    if direction % 4 == 0:\n",
    "        j += 1\n",
    "    elif direction % 4 == 1:\n",
    "        i += 1\n",
    "    elif direction % 4 == 2:\n",
    "        j -= 1\n",
    "    else:\n",
    "        i -= 1\n",
    "    return (i, j)"
   ]
  },
  {
   "cell_type": "code",
   "execution_count": 116,
   "metadata": {},
   "outputs": [],
   "source": [
    "def is_pos_valid(cmap, pos):\n",
    "    i, j = pos\n",
    "    imax, jmax = cmap.shape\n",
    "    \n",
    "    return i >= 0 and j >= 0 and i < imax and j < jmax and cmap[pos] != 'x'"
   ]
  },
  {
   "cell_type": "code",
   "execution_count": 117,
   "metadata": {},
   "outputs": [],
   "source": [
    "class Find_path:\n",
    "    def __init__(self, cmap):\n",
    "        self.visited = set()\n",
    "        self.cmap = cmap\n",
    "        self.path = []\n",
    "        \n",
    "    def depth_first_search(self, direction=None, pos=None):\n",
    "        \n",
    "        if direction is None:\n",
    "            direction = 0\n",
    "            n_dir = 4\n",
    "        else:\n",
    "            n_dir = 3\n",
    "            \n",
    "        if pos is None:\n",
    "            pos = [(i, j) for i in range(self.cmap.shape[0]) \n",
    "                          for j in range(self.cmap.shape[1]) \n",
    "                          if self.cmap[i,j] == 'O'][0]\n",
    "            \n",
    "        self.visited.add(pos)\n",
    "        print (pos)\n",
    "        \n",
    "        if self.cmap[pos] == '*':\n",
    "            self.path.append('G')\n",
    "            return True\n",
    "        \n",
    "        self.path.append('L')\n",
    "        direction -= 1\n",
    "        \n",
    "        for i in range(n_dir):\n",
    "            new_pos = step(pos, direction)\n",
    "            if is_pos_valid(cmap, new_pos) and new_pos not in self.visited:\n",
    "                self.path.append('S')\n",
    "                if self.depth_first_search(direction, new_pos):\n",
    "                    return True\n",
    "                self.path.append('S')\n",
    "                self.path.append('L')\n",
    "                direction += 1\n",
    "            else:\n",
    "                self.path.append('R')\n",
    "                direction += 1\n",
    "                \n",
    "        \n",
    "        return False"
   ]
  },
  {
   "cell_type": "code",
   "execution_count": 118,
   "metadata": {},
   "outputs": [],
   "source": [
    "fp = Find_path(cmap)"
   ]
  },
  {
   "cell_type": "code",
   "execution_count": 119,
   "metadata": {},
   "outputs": [
    {
     "name": "stdout",
     "output_type": "stream",
     "text": [
      "(2, 1)\n",
      "(1, 1)\n",
      "(0, 1)\n",
      "(0, 0)\n",
      "(0, 2)\n",
      "(0, 3)\n",
      "(2, 2)\n",
      "(2, 3)\n",
      "(3, 3)\n",
      "(3, 1)\n"
     ]
    },
    {
     "data": {
      "text/plain": [
       "True"
      ]
     },
     "execution_count": 119,
     "metadata": {},
     "output_type": "execute_result"
    }
   ],
   "source": [
    "fp.depth_first_search()"
   ]
  },
  {
   "cell_type": "code",
   "execution_count": 120,
   "metadata": {},
   "outputs": [
    {
     "data": {
      "text/plain": [
       "'LSLRSLSLRRRSLRSLRSLRRRSLRSLSLRSLSLRSLRRSLRRRSLSLRSLSG'"
      ]
     },
     "execution_count": 120,
     "metadata": {},
     "output_type": "execute_result"
    }
   ],
   "source": [
    "\"\".join(fp.path)"
   ]
  },
  {
   "cell_type": "code",
   "execution_count": 121,
   "metadata": {},
   "outputs": [
    {
     "data": {
      "text/plain": [
       "array([['-', '-', '-', '-'],\n",
       "       ['x', '-', 'x', 'x'],\n",
       "       ['-', 'O', '-', '-'],\n",
       "       ['-', '*', 'x', '-']], dtype='<U1')"
      ]
     },
     "execution_count": 121,
     "metadata": {},
     "output_type": "execute_result"
    }
   ],
   "source": [
    "cmap"
   ]
  },
  {
   "cell_type": "code",
   "execution_count": null,
   "metadata": {},
   "outputs": [],
   "source": []
  },
  {
   "cell_type": "code",
   "execution_count": 182,
   "metadata": {},
   "outputs": [],
   "source": [
    "class Robot:\n",
    "    \n",
    "    def __init__(self, cmap):\n",
    "        self.dir = None\n",
    "        self.cmap = cmap\n",
    "        self.pos = [(i,j) for i in range(cmap.shape[0]) for j in range(cmap.shape[1]) if cmap[i,j] == 'O'][0]\n",
    "        self.visited = {self.pos}\n",
    "        \n",
    "        \n",
    "    def turn_left(self):\n",
    "        print ('L', end='')\n",
    "        self.dir = (self.dir - 1) % 4\n",
    "        pass\n",
    "    \n",
    "    \n",
    "    def turn_right(self):\n",
    "        print ('R', end='')\n",
    "        self.dir = (self.dir + 1) % 4\n",
    "        pass\n",
    "    \n",
    "    \n",
    "    def step(self, status):\n",
    "        imax, jmax = self.cmap.shape\n",
    "        i, j = self.pos\n",
    "        if self.dir % 4 == 0:\n",
    "            j += 1\n",
    "        elif self.dir % 4 == 1:\n",
    "            i += 1\n",
    "        elif self.dir % 4 == 2:\n",
    "            j -= 1\n",
    "        elif self.dir % 4 == 3:\n",
    "            i -= 1\n",
    "        \n",
    "        if i >= 0 and j >= 0 and i < imax and j < jmax and cmap[i, j] != 'x':\n",
    "            if status != 'forwart' or (i, j) not in self.visited:\n",
    "                self.pos = (i, j)\n",
    "                self.visited.add(self.pos)\n",
    "                print ('S', end='')\n",
    "                return True\n",
    "        \n",
    "        return False\n",
    "            \n",
    "            \n",
    "    def depth_firth_search(self):\n",
    "        stack = [-4]\n",
    "        self.dir = 0\n",
    "        self.turn_left()\n",
    "        \n",
    "        while self.cmap[self.pos] != '*':\n",
    "            if stack[-1] == 0:\n",
    "                stack.pop()\n",
    "                self.step('backward')\n",
    "                self.turn_left()\n",
    "                \n",
    "            else:\n",
    "                stack[-1] += 1\n",
    "                if self.step('forward'):\n",
    "                    stack.append(-3)\n",
    "                    self.turn_left()\n",
    "                else:\n",
    "                    self.turn_right()\n",
    "\n",
    "        else:\n",
    "            print ('G')"
   ]
  },
  {
   "cell_type": "code",
   "execution_count": 183,
   "metadata": {},
   "outputs": [],
   "source": [
    "r = Robot(cmap)"
   ]
  },
  {
   "cell_type": "code",
   "execution_count": 184,
   "metadata": {},
   "outputs": [
    {
     "name": "stdout",
     "output_type": "stream",
     "text": [
      "LSLRSLSLRRRSLRSLRSLRRRSLRSLSLRSLSLRSLRRSLRRRSLSLRSLSLG\n"
     ]
    }
   ],
   "source": [
    "r.depth_firth_search()"
   ]
  },
  {
   "cell_type": "code",
   "execution_count": 185,
   "metadata": {},
   "outputs": [
    {
     "data": {
      "text/plain": [
       "array([['-', '-', '-', '-'],\n",
       "       ['x', '-', 'x', 'x'],\n",
       "       ['-', 'O', '-', '-'],\n",
       "       ['-', '*', 'x', '-']], dtype='<U1')"
      ]
     },
     "execution_count": 185,
     "metadata": {},
     "output_type": "execute_result"
    }
   ],
   "source": [
    "cmap"
   ]
  },
  {
   "cell_type": "code",
   "execution_count": null,
   "metadata": {},
   "outputs": [],
   "source": []
  },
  {
   "cell_type": "code",
   "execution_count": 186,
   "metadata": {},
   "outputs": [],
   "source": [
    "fp = Find_path(cmap)"
   ]
  },
  {
   "cell_type": "code",
   "execution_count": 187,
   "metadata": {},
   "outputs": [
    {
     "name": "stdout",
     "output_type": "stream",
     "text": [
      "(2, 1)\n",
      "(1, 1)\n",
      "(0, 1)\n",
      "(0, 0)\n",
      "(0, 2)\n",
      "(0, 3)\n",
      "(2, 2)\n",
      "(2, 3)\n",
      "(3, 3)\n",
      "(3, 1)\n"
     ]
    },
    {
     "data": {
      "text/plain": [
       "True"
      ]
     },
     "execution_count": 187,
     "metadata": {},
     "output_type": "execute_result"
    }
   ],
   "source": [
    "fp.depth_first_search()"
   ]
  },
  {
   "cell_type": "code",
   "execution_count": 188,
   "metadata": {},
   "outputs": [
    {
     "name": "stdout",
     "output_type": "stream",
     "text": [
      "LSLRSLSLRRRSLRSLRSLRRRSLRSLSLRSLSLRSLRRSLRRRSLSLRSLSG\n"
     ]
    }
   ],
   "source": [
    "print (\"\".join(fp.path))"
   ]
  },
  {
   "cell_type": "code",
   "execution_count": null,
   "metadata": {},
   "outputs": [],
   "source": []
  }
 ],
 "metadata": {
  "kernelspec": {
   "display_name": "Python 3",
   "language": "python",
   "name": "python3"
  },
  "language_info": {
   "codemirror_mode": {
    "name": "ipython",
    "version": 3
   },
   "file_extension": ".py",
   "mimetype": "text/x-python",
   "name": "python",
   "nbconvert_exporter": "python",
   "pygments_lexer": "ipython3",
   "version": "3.7.6"
  }
 },
 "nbformat": 4,
 "nbformat_minor": 4
}
